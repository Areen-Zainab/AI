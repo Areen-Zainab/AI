{
 "cells": [
  {
   "cell_type": "markdown",
   "metadata": {},
   "source": [
    "# Areen Zainab\n",
    "# 22i-1115\n",
    "# H\n"
   ]
  },
  {
   "cell_type": "markdown",
   "metadata": {},
   "source": [
    "# Poker Hand Optimization using Simulated Annealing\n",
    "\n",
    "The question statement is given on the exam paper. As mentioned there, here is an image visualizing winning poker hands \n",
    "\n",
    "<img src=\"https://media.istockphoto.com/id/1303667887/vector/texas-holdem-poker-hand-rankings-combination-set-vector-green-background.jpg?s=612x612&w=0&k=20&c=Ax8V0VbLdPBuwS1Ibp7jzPtRAoLLd-kdhB3HIk0zyjw=\">"
   ]
  },
  {
   "cell_type": "markdown",
   "metadata": {},
   "source": [
    "# The Boltzmann prbability\n",
    "$$\n",
    "P = e^{-\\frac{\\Delta E}{T}}\n",
    "$$\n",
    "\n",
    "- Where is $e$ the exponent\n",
    "- $\\Delta E$ is the change in energy\n",
    "- $T$ is the current temperature\n"
   ]
  },
  {
   "cell_type": "code",
   "execution_count": null,
   "metadata": {},
   "outputs": [],
   "source": [
    "math.exp(delta_e / temp)"
   ]
  },
  {
   "cell_type": "code",
   "execution_count": null,
   "metadata": {},
   "outputs": [
    {
     "name": "stdout",
     "output_type": "stream",
     "text": [
      "Initial Hand: [('3', 'Clubs'), ('Queen', 'Hearts'), ('Queen', 'Clubs'), ('King', 'Hearts'), ('9', 'Clubs')], Rank: 2\n",
      "Extra Pool: [('King', 'Clubs'), ('3', 'Hearts'), ('Jack', 'Hearts'), ('9', 'Spades'), ('King', 'Spades'), ('2', 'Diamonds'), ('6', 'Spades'), ('6', 'Diamonds'), ('Ace', 'Diamonds'), ('7', 'Spades')]\n",
      "\n",
      " current score:  2\n",
      "\n",
      "Final Optimized Hand:\n",
      "Hand: [('9', 'Spades'), ('9', 'Spades'), ('9', 'Spades'), ('Jack', 'Hearts'), ('9', 'Clubs')], Rank: 8\n"
     ]
    }
   ],
   "source": [
    "import random\n",
    "import math\n",
    "\n",
    "# Define Poker Hand Rankings\n",
    "HAND_RANKINGS = {\n",
    "    \"High Card\": 1,\n",
    "    \"One Pair\": 2,\n",
    "    \"Two Pair\": 3,\n",
    "    \"Three of a Kind\": 4,\n",
    "    \"Straight\": 5,\n",
    "    \"Flush\": 6,\n",
    "    \"Full House\": 7,\n",
    "    \"Four of a Kind\": 8,\n",
    "    \"Straight Flush\": 9,\n",
    "    \"Royal Flush\": 10\n",
    "}\n",
    "\n",
    "# Create a standard deck of 52 cards\n",
    "SUITS = [\"Hearts\", \"Diamonds\", \"Clubs\", \"Spades\"]\n",
    "VALUES = {str(i): i for i in range(2, 11)}\n",
    "VALUES.update({\"Jack\": 11, \"Queen\": 12, \"King\": 13, \"Ace\": 14})\n",
    "\n",
    "DECK = [(value, suit) for value in VALUES.keys() for suit in SUITS]\n",
    "\n",
    "#fucntion to generate a random hand\n",
    "def generate_hand(deck, size=5):\n",
    "    \"\"\"Generates a random poker hand from the deck.\"\"\"\n",
    "    return random.sample(deck, size)\n",
    "\n",
    "\n",
    "#function to rank the hands based on the rules of poker. This will act as your energy function. This will return the handrankings\n",
    "def hand_rank(hand):\n",
    "    \n",
    "    values = sorted([VALUES[card[0]] for card in hand]) #sorts the cards in the hand\n",
    "    suits = [card[1] for card in hand]\n",
    "\n",
    "    # Flush ko dekho pehly-->5 same suit kyt cards \n",
    "    if len(set(suits)) == 1:\n",
    "        if values == [10, 11, 12, 13, 14]:\n",
    "            return HAND_RANKINGS[\"Royal Flush\"]\n",
    "        elif values == list(range(min(values), max(values)+1)):\n",
    "            return HAND_RANKINGS[\"Straight Flush\"] #consecutive cards same suit but not highest :((\n",
    "        else:\n",
    "            return HAND_RANKINGS[\"Flush\"] #agar suit same hai lakin not consecutive \n",
    "        \n",
    "    # Straight ko check karo --> consective cards koi bhi rank\n",
    "    if values == list(range(min(values), max(values)+1)) :\n",
    "        return HAND_RANKINGS[\"Straight\"]\n",
    "    \n",
    "    # Four of a Kind ky pas 4 crads same rank ky \n",
    "    if len(set(values)) == 2 :\n",
    "        return HAND_RANKINGS[\"Four of a Kind\"]\n",
    "    \n",
    "    # Full House ky pas 3 same rank ky aur 2 same rank ky\n",
    "    if len(set(values)) == 2 or (values[0] == values[1] and values[1] == values[2] and values[2] == values[3]) or (values[1] == values[2] and values[2] == values[3] and values[3] == values[4]):\n",
    "        return HAND_RANKINGS[\"Full House\"]\n",
    "    \n",
    "    # Three of a Kind--> 2 cards same rank ky\n",
    "    if len(set(values)) == 3 or (values[0] == values[1] and values[1] == values[2]) or (values[2] == values[3] and values[3] == values[4]):\n",
    "        return HAND_RANKINGS[\"Three of a Kind\"]\n",
    "    \n",
    "    # Two Pair mei 2 pairs same rank ky\n",
    "    if len(set(values)) == 3 or (values[0] == values[1] and values[2] == values[3]) or (values[1] == values[2] and values[3] == values[4]) or (values[0] == values[1] and values[3] == values[4]):\n",
    "        return HAND_RANKINGS[\"Two Pair\"]\n",
    "    \n",
    "    # One Pair same rank ka \n",
    "    if len(set(values)) == 4 or (values[0] == values[1]) or (values[1] == values[2]) or (values[2] == values[3]) or (values[3] == values[4]):\n",
    "        return HAND_RANKINGS[\"One Pair\"]\n",
    "    \n",
    "    # High Card jab no combination \n",
    "    return HAND_RANKINGS[\"High Card\"]\n",
    "\n",
    "\n",
    "\n",
    "\n",
    "\"\"\"Optimizes a poker hand using Simulated Annealing.\"\"\"\n",
    "def simulated_annealing(initial_hand, extra_pool, max_iterations=1000, start_temp=100, cooling_rate=0.99):\n",
    "    \n",
    "    current_hand = initial_hand[:]\n",
    "    current_score = hand_rank(current_hand)\n",
    "    #print(\"\\n current score: \", current_score)\n",
    "    temp = start_temp\n",
    "    \n",
    "    best_hand = current_hand[:]\n",
    "    best_score = current_score\n",
    "\n",
    "    for _ in range(max_iterations):\n",
    "        # Candidate Move generate karo and swapping allow karo 3 dafa\n",
    "        new_hand = current_hand[:]\n",
    "        swap_count = random.randint(1, 3)\n",
    "        swap_indices = random.sample(range(5), swap_count)\n",
    "        for i in swap_indices:\n",
    "            new_hand[i] = random.choice(extra_pool)\n",
    "\n",
    "        # Evaluate Candidate Move\n",
    "        new_score = hand_rank(new_hand)\n",
    "        delta_e = new_score - current_score\n",
    "        \n",
    "\n",
    "        # Accept or Reject Candidate Move\n",
    "        if delta_e > 0 or random.random() < math.exp(delta_e / temp):\n",
    "            current_hand = new_hand\n",
    "            current_score = new_score\n",
    "\n",
    "            if current_score > best_score:\n",
    "                best_hand = current_hand[:]\n",
    "                best_score = current_score\n",
    "\n",
    "        # Update Temperature\n",
    "        temp *= cooling_rate\n",
    "        \n",
    "        if temp < 1e-6:\n",
    "            break\n",
    "\n",
    "    return best_hand, best_score\n",
    "\n",
    "# Main Execution\n",
    "if __name__ == \"__main__\":\n",
    "    deck = DECK[:]\n",
    "    random.shuffle(deck)\n",
    "\n",
    "    # Generate Initial Hand and Extra Pool\n",
    "    initial_hand = generate_hand(deck, 5)\n",
    "    remaining_deck = [card for card in deck if card not in initial_hand]\n",
    "    extra_pool = generate_hand(remaining_deck, 10) #we take out 10 cards to allow for controlled modifications \n",
    "\n",
    "    print(f\"Initial Hand: {initial_hand}, Rank: {hand_rank(initial_hand)}\")\n",
    "    print(f\"Extra Pool: {extra_pool}\")\n",
    "\n",
    "    # Run Simulated Annealing Optimization\n",
    "    optimized_hand, final_rank = simulated_annealing(initial_hand, extra_pool)\n",
    "\n",
    "    print(\"\\nFinal Optimized Hand:\")\n",
    "    print(f\"Hand: {optimized_hand}, Rank: {final_rank}\")\n"
   ]
  },
  {
   "cell_type": "markdown",
   "metadata": {},
   "source": [
    "# Answer of 1b here"
   ]
  },
  {
   "cell_type": "markdown",
   "metadata": {},
   "source": [
    "In the above question we have used the Simulated Annealing algorithm. What are the pros and cons of using this approach? Please give at least two of each (5 marks)\n",
    "\n",
    "pros of simulated anealing:\n",
    "1. It is stochastic and it can easily escape the local minima\n",
    "2. it is very versatile and it can be applied to wide range of problems \n",
    "\n",
    "cons of simulated anealing:   \n",
    "1. It is very slow just like me\n",
    "2. It does not gurantee optimal solution because it is heuristic algo\n",
    "3. Personally i don't like it     \n",
    "\n"
   ]
  },
  {
   "cell_type": "markdown",
   "metadata": {},
   "source": [
    "# Answer of 1c here"
   ]
  },
  {
   "cell_type": "markdown",
   "metadata": {},
   "source": [
    "What other algorithm(s) can we use here and what advantages and disadvantages would we get from them. You need to name at least one algorithm and give at least two advantages and disadvantages. (5 marks)\n",
    "\n",
    "Genetic Algorithm use kar saktay\n",
    "\n",
    "Advantages:   \n",
    "1. It can find global optimal solution \n",
    "2. It can handle large spaces \n",
    "\n",
    "Disadvantages:   \n",
    "1. It is very complex \n",
    "2. It can get stuck at local optima \n",
    "\n",
    "\n"
   ]
  },
  {
   "cell_type": "markdown",
   "metadata": {},
   "source": []
  }
 ],
 "metadata": {
  "kernelspec": {
   "display_name": "myenv",
   "language": "python",
   "name": "python3"
  },
  "language_info": {
   "codemirror_mode": {
    "name": "ipython",
    "version": 3
   },
   "file_extension": ".py",
   "mimetype": "text/x-python",
   "name": "python",
   "nbconvert_exporter": "python",
   "pygments_lexer": "ipython3",
   "version": "3.13.1"
  }
 },
 "nbformat": 4,
 "nbformat_minor": 2
}
