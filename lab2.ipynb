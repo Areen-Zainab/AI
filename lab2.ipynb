{
 "cells": [
  {
   "cell_type": "markdown",
   "metadata": {},
   "source": [
    "### Numpy Exercise\n",
    "In this exercise, we will be working with a dataset with the information of baseball players. Here is the code to read the dataset and convert it into lists."
   ]
  },
  {
   "cell_type": "markdown",
   "metadata": {},
   "source": [
    "**Areen Zainab**\n",
    "**22i-1115**"
   ]
  },
  {
   "cell_type": "code",
   "execution_count": 22,
   "metadata": {},
   "outputs": [
    {
     "name": "stdout",
     "output_type": "stream",
     "text": [
      "%pylab is deprecated, use %matplotlib inline and import the required libraries.\n",
      "Populating the interactive namespace from numpy and matplotlib\n"
     ]
    }
   ],
   "source": [
    "%pylab inline"
   ]
  },
  {
   "cell_type": "code",
   "execution_count": 23,
   "metadata": {},
   "outputs": [],
   "source": [
    "import pandas as pd "
   ]
  },
  {
   "cell_type": "code",
   "execution_count": 24,
   "metadata": {},
   "outputs": [],
   "source": [
    "bbdata=pd.read_csv('https://raw.githubusercontent.com/datacamp/courses-introduction-to-python/master/datasets/baseball.csv')\n",
    "\n",
    "height=list(bbdata['Height'])\n",
    "weight=list(bbdata['Weight'])"
   ]
  },
  {
   "cell_type": "code",
   "execution_count": 25,
   "metadata": {},
   "outputs": [
    {
     "data": {
      "text/plain": [
       "<matplotlib.collections.PathCollection at 0x1776c36d150>"
      ]
     },
     "execution_count": 25,
     "metadata": {},
     "output_type": "execute_result"
    },
    {
     "data": {
      "image/png": "[encoded data removed]",
      "text/plain": [
       "<Figure size 640x480 with 1 Axes>"
      ]
     },
     "metadata": {},
     "output_type": "display_data"
    }
   ],
   "source": [
    "import matplotlib.pyplot as plt\n",
    "\n",
    "plt.scatter(height,weight)"
   ]
  },
  {
   "cell_type": "markdown",
   "metadata": {},
   "source": [
    "### Real Work begins\n",
    "We have height and weidths as lists now, you task is to convert them into numpy arrays and then acheive the following insights.\n",
    "The units are height in inches, weight in lbs"
   ]
  },
  {
   "cell_type": "markdown",
   "metadata": {},
   "source": [
    "# View the Data\n",
    "Once the data is loaded, take a look at the first few rows to get an idea of what it contains.\n",
    "\n",
    "**Task**: Use a function to display the first five rows of the DataFrame `df`."
   ]
  },
  {
   "cell_type": "code",
   "execution_count": 26,
   "metadata": {},
   "outputs": [
    {
     "name": "stdout",
     "output_type": "stream",
     "text": [
      "First five rows of the dataset:\n",
      "              Name Team       Position  Height  Weight    Age PosCategory\n",
      "0    Adam_Donachie  BAL        Catcher      74     180  22.99     Catcher\n",
      "1        Paul_Bako  BAL        Catcher      74     215  34.69     Catcher\n",
      "2  Ramon_Hernandez  BAL        Catcher      72     210  30.78     Catcher\n",
      "3     Kevin_Millar  BAL  First_Baseman      72     210  35.43   Infielder\n",
      "4      Chris_Gomez  BAL  First_Baseman      73     188  35.71   Infielder\n"
     ]
    }
   ],
   "source": [
    "#code \n",
    "print(\"First five rows of the dataset:\")\n",
    "print(bbdata.head())"
   ]
  },
  {
   "cell_type": "markdown",
   "metadata": {},
   "source": [
    "# Check Dataset Dimensions\n",
    "Knowing the size of the dataset can help you plan data processing steps.\n",
    "\n",
    "**Task**: Use a function to display the dimensions (rows and columns) of `df`.\n"
   ]
  },
  {
   "cell_type": "code",
   "execution_count": 27,
   "metadata": {},
   "outputs": [
    {
     "name": "stdout",
     "output_type": "stream",
     "text": [
      "Dimensions of the dataset (rows, columns):\n",
      "(1015, 7)\n"
     ]
    }
   ],
   "source": [
    "# code here\n",
    "print(\"Dimensions of the dataset (rows, columns):\")\n",
    "print(bbdata.shape)"
   ]
  },
  {
   "cell_type": "markdown",
   "metadata": {},
   "source": [
    "# Get Data Overview\n",
    "Understanding the data types and number of non-null entries in each column is crucial for data cleaning.\n",
    "\n",
    "**Task**: Use a function to get a summary of `df` and its columns.\n"
   ]
  },
  {
   "cell_type": "code",
   "execution_count": 28,
   "metadata": {},
   "outputs": [
    {
     "name": "stdout",
     "output_type": "stream",
     "text": [
      "Dataset overview:\n",
      "<class 'pandas.core.frame.DataFrame'>\n",
      "RangeIndex: 1015 entries, 0 to 1014\n",
      "Data columns (total 7 columns):\n",
      " #   Column       Non-Null Count  Dtype  \n",
      "---  ------       --------------  -----  \n",
      " 0   Name         1015 non-null   object \n",
      " 1   Team         1015 non-null   object \n",
      " 2   Position     1015 non-null   object \n",
      " 3   Height       1015 non-null   int64  \n",
      " 4   Weight       1015 non-null   int64  \n",
      " 5   Age          1015 non-null   float64\n",
      " 6   PosCategory  1015 non-null   object \n",
      "dtypes: float64(1), int64(2), object(4)\n",
      "memory usage: 55.6+ KB\n"
     ]
    }
   ],
   "source": [
    "# CODE\n",
    "print(\"Dataset overview:\")\n",
    "bbdata.info()"
   ]
  },
  {
   "cell_type": "markdown",
   "metadata": {},
   "source": []
  },
  {
   "cell_type": "code",
   "execution_count": 29,
   "metadata": {
    "collapsed": true
   },
   "outputs": [
    {
     "name": "stdout",
     "output_type": "stream",
     "text": [
      "Numpy array of height:\n",
      "[74 74 72 ... 75 75 73]\n",
      "\n",
      "Numpy array of weights:\n",
      "[180 215 210 ... 205 190 195]\n"
     ]
    }
   ],
   "source": [
    "# height is available as a regular list\n",
    "\n",
    "# Import numpy\n",
    "import numpy as np\n",
    "\n",
    "# Create a Numpy array from height: np_height\n",
    "np_height = np.array(height)\n",
    "\n",
    "# Print out np_height\n",
    "print(\"Numpy array of height:\")\n",
    "print(np_height)\n",
    "\n",
    "# Create array from weight with correct units: np_weight_lbs\n",
    "np_weight_lbs= np.array(weight)\n",
    "\n",
    "# print the array np_weight_lbs\n",
    "print(\"\\nNumpy array of weights:\")\n",
    "print(np_weight_lbs)"
   ]
  },
  {
   "cell_type": "markdown",
   "metadata": {},
   "source": [
    "* 1 meter = 39.3701 inches"
   ]
  },
  {
   "cell_type": "code",
   "execution_count": 30,
   "metadata": {
    "collapsed": true
   },
   "outputs": [
    {
     "name": "stdout",
     "output_type": "stream",
     "text": [
      "Numpy array of height (in meters):  [1.87959899 1.87959899 1.82879901 ... 1.90499897 1.90499897 1.854199  ]\n"
     ]
    }
   ],
   "source": [
    "# Convert np_height to meters: np_height_m\n",
    "np_height_m = np_height / 39.3701\n",
    "\n",
    "# Print np_height_m\n",
    "print(\"Numpy array of height (in meters): \", np_height_m)\n"
   ]
  },
  {
   "cell_type": "markdown",
   "metadata": {},
   "source": [
    "* 1 lbs(pound) = 0.453592 kg"
   ]
  },
  {
   "cell_type": "code",
   "execution_count": 31,
   "metadata": {},
   "outputs": [
    {
     "name": "stdout",
     "output_type": "stream",
     "text": [
      "Numpy array of weight (in kg):  [81.64656 97.52228 95.25432 ... 92.98636 86.18248 88.45044]\n"
     ]
    }
   ],
   "source": [
    "# Convert np_weight_lbs to kgs: np_weight_kgs\n",
    "np_weight_kgs = np_weight_lbs*0.453592\n",
    "\n",
    "# Print np_weight_kgs\n",
    "print(\"Numpy array of weight (in kg): \", np_weight_kgs)\n"
   ]
  },
  {
   "cell_type": "markdown",
   "metadata": {},
   "source": [
    "- BMI=weight(kg)/(height (in m)**2)"
   ]
  },
  {
   "cell_type": "code",
   "execution_count": 32,
   "metadata": {},
   "outputs": [
    {
     "name": "stdout",
     "output_type": "stream",
     "text": [
      "bmi:  [23.11040135 27.6040905  28.48083541 ... 25.62298701 23.7481343\n",
      " 25.7268914 ]\n"
     ]
    }
   ],
   "source": [
    "# Calculate the BMI: bmi\n",
    "bmi = np_weight_kgs / (np_height_m ** 2)\n",
    "\n",
    "# Print out bmi\n",
    "print(\"bmi: \", bmi)"
   ]
  },
  {
   "cell_type": "markdown",
   "metadata": {},
   "source": [
    "Create a boolean Numpy array: the element of the array should be True if the corresponding baseball player's BMI is below 21. You can use the < operator for this. Name the array light.\n",
    "Print the array light.\n",
    "Print out a Numpy array with the BMIs of all baseball players whose BMI is below 21. Use light inside square brackets to do a selection on the bmi array.\n"
   ]
  },
  {
   "cell_type": "code",
   "execution_count": 33,
   "metadata": {
    "collapsed": true
   },
   "outputs": [
    {
     "name": "stdout",
     "output_type": "stream",
     "text": [
      "Boolean array (BMI < 21):\n",
      "[False False False ... False False False]\n",
      "\n",
      "BMIs of players with BMI < 21:\n",
      "[20.54257898 20.54257898 20.69284282 20.69284282 20.34345386 20.34345386\n",
      " 20.69284282 20.15885649 19.49846816 20.69284282 20.9205445 ]\n"
     ]
    }
   ],
   "source": [
    "light = bmi < 21\n",
    "\n",
    "print(\"Boolean array (BMI < 21):\")\n",
    "print(light)\n",
    "\n",
    "light_bmis = bmi[light]\n",
    "print(\"\\nBMIs of players with BMI < 21:\")\n",
    "print(light_bmis)"
   ]
  },
  {
   "cell_type": "code",
   "execution_count": 34,
   "metadata": {},
   "outputs": [
    {
     "name": "stdout",
     "output_type": "stream",
     "text": [
      "Type of np_baseball:\n",
      "<class 'numpy.ndarray'>\n",
      "\n",
      "Shape of np_baseball:\n",
      "(4, 2)\n"
     ]
    }
   ],
   "source": [
    "# Create baseball, a list of lists\n",
    "baseball = [[180, 78.4],\n",
    "            [215, 102.7],\n",
    "            [210, 98.5],\n",
    "            [188, 75.2]]\n",
    "\n",
    "# Import numpy\n",
    "import numpy as np\n",
    "\n",
    "# Create a 2D Numpy array from baseball: np_baseball\n",
    "np_baseball = np.array(baseball)\n",
    "\n",
    "# Print out the type of np_baseball\n",
    "print(\"Type of np_baseball:\")\n",
    "print(type(np_baseball))\n",
    "\n",
    "# Print out the shape of np_baseball\n",
    "print(\"\\nShape of np_baseball:\")\n",
    "print(np_baseball.shape)"
   ]
  },
  {
   "cell_type": "code",
   "execution_count": 35,
   "metadata": {},
   "outputs": [
    {
     "name": "stdout",
     "output_type": "stream",
     "text": [
      "Shape of np_baseball:\n",
      "(1015, 2)\n"
     ]
    }
   ],
   "source": [
    "# Create a 2D Numpy array named np_baseball from the lists of weight and height\n",
    "np_baseball = np.array([height, weight]).T\n",
    "\n",
    "# Print out the shape of np_baseball\n",
    "print(\"Shape of np_baseball:\")\n",
    "print(np_baseball.shape)\n"
   ]
  },
  {
   "cell_type": "markdown",
   "metadata": {},
   "source": [
    "- If you want to convert the units of height and weight. As a first step, create a Numpy array with two values: 0.0254, 0.453592. Name this array conversion.\n",
    "Multiply np_baseball with conversion and print out the result."
   ]
  },
  {
   "cell_type": "code",
   "execution_count": 36,
   "metadata": {},
   "outputs": [
    {
     "name": "stdout",
     "output_type": "stream",
     "text": [
      "Converted np_baseball (height (m), weight(kg)):\n",
      "[[ 1.8796  81.64656]\n",
      " [ 1.8796  97.52228]\n",
      " [ 1.8288  95.25432]\n",
      " ...\n",
      " [ 1.905   92.98636]\n",
      " [ 1.905   86.18248]\n",
      " [ 1.8542  88.45044]]\n"
     ]
    }
   ],
   "source": [
    "conversion = np.array([0.0254, 0.453592])\n",
    "\n",
    "converted_baseball = np_baseball * conversion\n",
    "\n",
    "print(\"Converted np_baseball (height (m), weight(kg)):\")\n",
    "print(converted_baseball)"
   ]
  },
  {
   "cell_type": "markdown",
   "metadata": {},
   "source": [
    "### Now it's time for some statistics"
   ]
  },
  {
   "cell_type": "code",
   "execution_count": 38,
   "metadata": {},
   "outputs": [
    {
     "name": "stdout",
     "output_type": "stream",
     "text": [
      "Mean height: 73.6896551724138\n",
      "Median height: 74.0\n",
      "Standard deviation of height: 2.312791881046546\n"
     ]
    }
   ],
   "source": [
    "# Print out the mean of np_height\n",
    "mean_height = np.mean(np_height)\n",
    "print(\"Mean height:\", mean_height)\n",
    "\n",
    "# Print out the median of np_height\n",
    "median_height = np.median(np_height)\n",
    "\n",
    "# Print median height. Replace 'None'\n",
    "print(\"Median height:\", median_height)\n",
    "\n",
    "# Print out the standard deviation on height. Replace 'None'\n",
    "std_dev_height = np.std(np_height)\n",
    "print(\"Standard deviation of height:\", std_dev_height)\n"
   ]
  },
  {
   "cell_type": "code",
   "execution_count": 39,
   "metadata": {},
   "outputs": [
    {
     "name": "stdout",
     "output_type": "stream",
     "text": [
      "Index of player with maximum height: 909\n"
     ]
    }
   ],
   "source": [
    "# Print the index of player with maximum height\n",
    "max_height_index = np.argmax(np_height)\n",
    "print(\"Index of player with maximum height:\", max_height_index)"
   ]
  },
  {
   "cell_type": "code",
   "execution_count": 49,
   "metadata": {},
   "outputs": [
    {
     "name": "stdout",
     "output_type": "stream",
     "text": [
      "New Wali heights:\n",
      "[72, 72, 72, 72, 72, 69, 69, 71, 72, 71, 72, 72, 72, 72, 69, 70, 72, 72, 72, 72, 72, 72, 72, 72, 71, 72, 72, 72, 72, 72, 72, 72, 72, 72, 72, 72, 72, 69, 71, 72, 72, 72, 72, 72, 72, 70, 72, 72, 72, 70, 72, 72, 72, 72, 72, 72, 72, 72, 72, 72, 72, 72, 72, 72, 72, 72, 72, 72, 72, 72, 72, 72, 70, 70, 70, 72, 68, 71, 72, 72, 72, 72, 72, 68, 72, 72, 71, 72, 72, 72, 72, 72, 72, 72, 72, 72, 72, 72, 72, 72, 72, 72, 72, 72, 69, 72, 72, 72, 72, 72, 72, 72, 72, 72, 72, 72, 72, 72, 72, 72, 72, 72, 72, 72, 72, 72, 72, 72, 72, 72, 71, 72, 72, 72, 72, 72, 72, 72, 70, 72, 72, 72, 72, 72, 71, 72, 72, 72, 72, 71, 72, 72, 72, 72, 72, 72, 72, 72, 72, 72, 72, 72, 72, 72, 72, 72, 72, 72, 72, 72, 72, 72, 72, 72, 70, 71, 70, 72, 71, 71, 72, 72, 71, 72, 72, 72, 72, 72, 72, 72, 72, 72, 72, 72, 72, 72, 72, 72, 71, 72, 72, 72, 71, 72, 72, 72, 71, 72, 72, 72, 72, 72, 72, 72, 72, 72, 72, 71, 70, 72, 72, 72, 72, 72, 72, 72, 72, 72, 72, 72, 72, 72, 72, 71, 72, 72, 69, 71, 72, 72, 72, 70, 72, 72, 71, 72, 71, 72, 72, 72, 72, 72, 72, 72, 72, 72, 72, 72, 72, 72, 71, 72, 72, 72, 72, 72, 72, 72, 72, 72, 72, 72, 70, 72, 72, 72, 72, 71, 70, 72, 71, 72, 71, 72, 71, 72, 69, 72, 72, 72, 72, 72, 72, 72, 72, 72, 72, 72, 72, 72, 71, 72, 72, 72, 72, 72, 72, 70, 72, 72, 72, 72, 72, 72, 72, 72, 72, 72, 72, 72, 72, 72, 72, 72, 72, 72, 72, 72, 72, 72, 70, 72, 71, 72, 72, 72, 72, 72, 71, 72, 72, 72, 69, 72, 72, 72, 70, 72, 70, 72, 72, 72, 72, 72, 72, 72, 72, 72, 72, 72, 72, 72, 72, 72, 72, 71, 72, 72, 72, 72, 72, 72, 72, 72, 72, 72, 72, 72, 72, 72, 72, 72, 72, 72, 72, 71, 72, 72, 72, 72, 72, 72, 72, 72, 72, 72, 72, 72, 72, 72, 72, 72, 72, 72, 72, 72, 70, 72, 72, 72, 71, 72, 71, 72, 72, 72, 70, 72, 72, 72, 72, 71, 72, 72, 72, 72, 72, 72, 72, 72, 72, 72, 72, 72, 70, 72, 70, 72, 71, 72, 72, 72, 71, 69, 72, 72, 69, 72, 69, 72, 72, 72, 72, 71, 72, 72, 72, 72, 72, 72, 72, 72, 71, 72, 71, 72, 72, 72, 72, 71, 72, 72, 72, 72, 72, 72, 72, 72, 72, 72, 72, 72, 72, 72, 72, 72, 72, 72, 72, 70, 72, 72, 72, 71, 71, 72, 72, 72, 72, 72, 72, 72, 72, 72, 72, 72, 71, 72, 72, 72, 72, 71, 72, 72, 69, 72, 70, 72, 72, 72, 72, 72, 72, 72, 72, 72, 72, 72, 72, 72, 72, 72, 72, 72, 72, 72, 72, 72, 72, 72, 72, 72, 72, 71, 72, 70, 72, 72, 72, 70, 72, 72, 72, 72, 72, 72, 72, 72, 72, 72, 72, 70, 72, 72, 72, 72, 72, 72, 72, 72, 72, 72, 72, 71, 72, 72, 72, 72, 72, 70, 71, 72, 72, 71, 72, 72, 72, 72, 72, 72, 72, 72, 72, 72, 72, 72, 72, 72, 72, 72, 71, 72, 70, 72, 72, 72, 72, 71, 71, 72, 72, 72, 72, 69, 72, 72, 71, 72, 72, 72, 70, 72, 72, 72, 72, 72, 72, 72, 72, 72, 72, 72, 72, 72, 72, 72, 70, 71, 71, 72, 72, 69, 70, 72, 72, 72, 72, 72, 72, 72, 72, 72, 72, 69, 72, 72, 72, 72, 72, 72, 72, 72, 72, 72, 71, 72, 72, 72, 72, 72, 72, 70, 72, 72, 72, 70, 69, 71, 72, 72, 72, 70, 70, 72, 72, 72, 72, 72, 72, 71, 72, 72, 72, 72, 72, 72, 72, 72, 72, 71, 72, 72, 70, 72, 72, 72, 72, 71, 72, 71, 72, 70, 72, 72, 72, 71, 71, 71, 72, 72, 72, 72, 72, 71, 72, 72, 72, 71, 72, 72, 72, 72, 72, 72, 72, 72, 72, 72, 72, 72, 72, 72, 72, 72, 71, 71, 72, 72, 72, 72, 71, 70, 72, 71, 72, 72, 68, 71, 72, 72, 72, 72, 72, 72, 72, 72, 72, 72, 72, 72, 72, 72, 72, 72, 72, 70, 71, 72, 72, 72, 72, 72, 72, 71, 68, 71, 71, 72, 72, 69, 72, 72, 72, 72, 72, 72, 72, 72, 72, 72, 72, 72, 72, 72, 70, 72, 72, 72, 71, 68, 72, 72, 71, 72, 70, 72, 72, 72, 72, 72, 72, 72, 72, 72, 72, 72, 72, 72, 72, 72, 72, 72, 72, 72, 72, 72, 72, 72, 71, 72, 72, 72, 72, 72, 72, 72, 72, 72, 72, 68, 72, 72, 71, 70, 72, 72, 72, 72, 72, 70, 72, 71, 72, 72, 72, 72, 71, 72, 72, 72, 72, 72, 72, 72, 72, 72, 72, 72, 72, 72, 72, 72, 70, 72, 72, 72, 72, 72, 72, 72, 72, 72, 72, 70, 72, 72, 72, 72, 72, 72, 72, 72, 72, 72, 71, 72, 71, 72, 72, 72, 72, 72, 72, 72, 72, 72, 72, 72, 72, 72, 72, 70, 72, 72, 72, 72, 71, 70, 71, 72, 72, 72, 72, 72, 72, 72, 72, 71, 71, 72, 72, 71, 72, 72, 72, 72, 72, 72, 72, 71, 72, 72, 72, 68, 72, 69, 72, 72, 72, 70, 70, 72, 72, 72, 72, 72, 72, 72, 72, 72, 72, 72, 72, 72, 72, 72, 72, 72, 72, 72, 72, 72, 72, 72, 71, 72, 72, 72, 67, 67, 72, 72, 72, 70, 72, 70, 72, 72, 72, 72, 72, 72, 72, 72, 72, 72, 69, 72, 72, 72, 72, 72, 72, 72, 72]\n"
     ]
    }
   ],
   "source": [
    "#Replace all the players height greater than 6 Feet with 6 Feet\n",
    "edited_height = [x if x <= 72 else 72 for x in height]\n",
    "\n",
    "print(\"New Wali heights:\")\n",
    "print(edited_height)"
   ]
  },
  {
   "cell_type": "code",
   "execution_count": 55,
   "metadata": {},
   "outputs": [
    {
     "name": "stdout",
     "output_type": "stream",
     "text": [
      "Number of players with weight greater than 75 kg: 981\n"
     ]
    }
   ],
   "source": [
    "#Count number of players with weight greater than 75 kg..\n",
    "count = np.sum(np_weight_kgs > 75)\n",
    "\n",
    "print(\"Number of players with weight greater than 75 kg:\", count)"
   ]
  },
  {
   "cell_type": "code",
   "execution_count": 56,
   "metadata": {},
   "outputs": [
    {
     "name": "stdout",
     "output_type": "stream",
     "text": [
      "Sorted heights: [67 67 68 ... 72 72 72]\n",
      "Indices of sorted heights: [ 989  988  953 ... 1013 1014    0]\n"
     ]
    }
   ],
   "source": [
    "# Sort the height, and get the sorting index as well\n",
    "sind = np.argsort(np_height)\n",
    "sorted_heights = np_height[sind]\n",
    "\n",
    "print(\"Sorted heights:\", sorted_heights)\n",
    "print(\"Indices of sorted heights:\", sind)"
   ]
  },
  {
   "cell_type": "code",
   "execution_count": 57,
   "metadata": {},
   "outputs": [
    {
     "name": "stdout",
     "output_type": "stream",
     "text": [
      "Reshaped np_baseball (Number of Players x 2):\n",
      "[[ 74 180]\n",
      " [ 74 215]\n",
      " [ 72 210]\n",
      " ...\n",
      " [ 75 205]\n",
      " [ 75 190]\n",
      " [ 73 195]]\n"
     ]
    }
   ],
   "source": [
    "#Reshape the 2 x Number of Players array to Number of Players x 2\n",
    "np_baseball_reshaped = np_baseball\n",
    "\n",
    "print(\"Reshaped np_baseball (Number of Players x 2):\")\n",
    "print(np_baseball_reshaped)"
   ]
  },
  {
   "cell_type": "markdown",
   "metadata": {},
   "source": [
    "#### Advanced Operations for your practice"
   ]
  },
  {
   "cell_type": "markdown",
   "metadata": {},
   "source": [
    "1. Construct an array from the list: [1,2,3]\n",
    "2. Cast it into floats\n",
    "3. Create an array of int ranging from 0-10 \n",
    "4. Create an array containing 7 evenly spaced numbers between 0 and 23\n",
    "5. Create an array with shape (2,5,1,5,2,1) containing only the number 5\n",
    "6. Eliminate all length-1 dimensions. See the function squeeze.\n",
    "7. Reshape the resulting array from shape (2,5,3,2) to only 2D\n",
    "8. Calculate the mean, std, var, max, min, of an array with shape (3,3,12,3) containing floats drawn\n",
    "from a normal distribution with mean 21 and sigma 4.5. see the np.random.normal.\n",
    "9. Do the same but not on all elements but only on the 2nd dimension. \n",
    "10. Transform the array such that it is only 1d. See the function Flatten or ravel\n",
    "11. Remove all values smaller 15 and larger 26.\n",
    "12. Clip all values smaller 15 and larger 26 to NaN. See the function Clip\n",
    "13. Calculate the sum of the resulting array. It should not be NaN!.\n",
    "14. Convert the NaN’s to 0.0. See Where\n",
    "15. Save the array and load it again."
   ]
  },
  {
   "attachments": {},
   "cell_type": "markdown",
   "metadata": {},
   "source": [
    "### Using Matplotlib to chart data"
   ]
  },
  {
   "cell_type": "code",
   "execution_count": 64,
   "metadata": {},
   "outputs": [
    {
     "data": {
      "image/png": "[encoded data removed]",
      "text/plain": [
       "<Figure size 600x400 with 1 Axes>"
      ]
     },
     "metadata": {},
     "output_type": "display_data"
    },
    {
     "data": {
      "image/png": "[encoded data removed]",
      "text/plain": [
       "<Figure size 600x400 with 1 Axes>"
      ]
     },
     "metadata": {},
     "output_type": "display_data"
    },
    {
     "data": {
      "image/png": "[encoded data removed]",
      "text/plain": [
       "<Figure size 600x600 with 1 Axes>"
      ]
     },
     "metadata": {},
     "output_type": "display_data"
    }
   ],
   "source": [
    "# Draw three different charts using the below data\n",
    "# importing matplotlib module\n",
    "# import matplotlib.pyplot as plt\n",
    "import matplotlib.pyplot as plt\n",
    "\n",
    "# creating dataset\n",
    "data = {'apple': 10, 'orange': 15, 'lemon': 5, 'lime': 20}\n",
    "\n",
    "#Bar Chart\n",
    "plt.figure(figsize=(6, 4))\n",
    "plt.bar(data.keys(), data.values(), color='blue')\n",
    "plt.title(\"Bar Chart: Fruit Quantities\")\n",
    "plt.xlabel(\"Fruit\")\n",
    "plt.ylabel(\"Quantity\")\n",
    "plt.show()\n",
    "\n",
    "#Line Chart\n",
    "plt.figure(figsize=(6, 4))\n",
    "plt.plot(data.keys(), data.values(), marker='o', color='blue', linestyle='-', linewidth=2, markersize=8)\n",
    "plt.title(\"Line Chart: Fruit Quantities\")\n",
    "plt.xlabel(\"Fruit\")\n",
    "plt.ylabel(\"Quantity\")\n",
    "plt.show()\n",
    "\n",
    "#Pie Chart\n",
    "plt.figure(figsize=(6, 6))\n",
    "plt.pie(data.values(), labels=data.keys(), autopct='%1.1f%%', colors=['yellowgreen', 'orange', 'lightcoral', 'lightblue'])\n",
    "plt.title(\"Pie Chart: Fruit Quantities\")\n",
    "plt.show()\n"
   ]
  },
  {
   "cell_type": "markdown",
   "metadata": {},
   "source": [
    "# Lambda Functions Questions "
   ]
  },
  {
   "cell_type": "markdown",
   "metadata": {},
   "source": [
    "Sorting with Keys\n",
    "\n",
    "- Sort the list of dictionaries people = [{'name': 'Alice', 'age': 30}, {'name': 'Bob', 'age': 25}] by age using a lambda function.\n",
    "- Sort the list ['python', 'java', 'c', 'ruby'] in descending order of string length using a lambda function."
   ]
  },
  {
   "cell_type": "code",
   "execution_count": 67,
   "metadata": {},
   "outputs": [
    {
     "name": "stdout",
     "output_type": "stream",
     "text": [
      "Sorted by age: [{'name': 'Bob', 'age': 25}, {'name': 'Alice', 'age': 30}]\n",
      "Sorted by string length (descending): ['python', 'java', 'ruby', 'c++', 'c']\n"
     ]
    }
   ],
   "source": [
    "#code\n",
    "# List of dictionaries\n",
    "people = [{'name': 'Alice', 'age': 30}, {'name': 'Bob', 'age': 25}]\n",
    "\n",
    "#lambda function\n",
    "sorted_people = sorted(people, key=lambda a: a['age'])\n",
    "print(\"Sorted by age:\", sorted_people)\n",
    "\n",
    "# List of strings\n",
    "languages = ['python', 'java', 'c', 'c++', 'ruby']\n",
    "\n",
    "# Sort by length of string in descending order using a lambda function\n",
    "sorted_languages = sorted(languages, key=lambda a: len(a), reverse=True)\n",
    "print(\"Sorted by string length (descending):\", sorted_languages)\n",
    "\n",
    "\n"
   ]
  },
  {
   "cell_type": "markdown",
   "metadata": {},
   "source": [
    "Filtering\n",
    "\n",
    "- Use filter with a lambda function to extract words longer than 3 characters from the list [\"hi\", \"hello\", \"world\", \"ok\"].\n",
    "- Write a lambda function to filter out all strings that start with the letter a from ['apple', 'banana', 'apricot', 'grape']."
   ]
  },
  {
   "cell_type": "code",
   "execution_count": 72,
   "metadata": {},
   "outputs": [
    {
     "name": "stdout",
     "output_type": "stream",
     "text": [
      "Filtered words longer than 3 characters: ['hello', 'world']\n",
      "\n",
      "Filtered fruits starting with 'a': ['banana', 'grape']\n"
     ]
    }
   ],
   "source": [
    "#code\n",
    "words = ['hi', 'hello', 'world', 'ok']\n",
    "filtered_words = list(filter(lambda x: len(x) > 3, words))\n",
    "print(\"Filtered words longer than 3 characters:\", filtered_words)\n",
    "\n",
    "fruits = ['apple', 'banana', 'apricot', 'grape']\n",
    "filtered_fruits = list(filter(lambda x: x[0]!= 'a', fruits))\n",
    "print(\"\\nFiltered fruits starting with 'a':\", filtered_fruits)"
   ]
  },
  {
   "cell_type": "markdown",
   "metadata": {},
   "source": [
    "Implement a query function that takes a list of dictionaries and a lambda condition, and returns all dictionaries matching the condition.\n",
    "Example:\n",
    "`data = [{'name': 'Alice', 'age': 30}, {'name': 'Bob', 'age': 25}], {'name': 'Anna', 'age': 22}`\n",
    "\n",
    "`result = query(data, lambda d: d['age'] > 26)`\n",
    "\n",
    "`print(result)  # Output: [{'name': 'Alice', 'age': 30}]`\n",
    "\n",
    "You will need to make sure that your function does the following\n",
    "\n",
    "1. Filter by age\n",
    "2. Filter names starting with 'A'\n",
    "3. Filter based on name length"
   ]
  },
  {
   "cell_type": "code",
   "execution_count": null,
   "metadata": {},
   "outputs": [],
   "source": [
    "def query(data, condition):\n",
    "    return list(filter(condition, data))"
   ]
  },
  {
   "cell_type": "code",
   "execution_count": 78,
   "metadata": {},
   "outputs": [
    {
     "name": "stdout",
     "output_type": "stream",
     "text": [
      "Filtered by age > 26: [{'name': 'Alice', 'age': 30}]\n",
      "\n",
      "Filtered names starting with 'A': [{'name': 'Alice', 'age': 30}, {'name': 'Anna', 'age': 22}]\n",
      "\n",
      "Filtered by name length > 4: [{'name': 'Alice', 'age': 30}]\n"
     ]
    }
   ],
   "source": [
    "data = [{'name': 'Alice', 'age': 30}, {'name': 'Bob', 'age': 25}, {'name': 'Anna', 'age': 22}]\n",
    "result = query(data, lambda a: a['age'] > 26)\n",
    "print(\"Filtered by age > 26:\", result)\n",
    "\n",
    "result = query(data, lambda a: a['name'].startswith('A'))\n",
    "print(\"\\nFiltered names starting with 'A':\", result)\n",
    "\n",
    "result = query(data, lambda a: len(a['name']) > 4)\n",
    "print(\"\\nFiltered by name length > 4:\", result)"
   ]
  }
 ],
 "metadata": {
  "anaconda-cloud": {},
  "kernelspec": {
   "display_name": "myenv",
   "language": "python",
   "name": "python3"
  },
  "language_info": {
   "codemirror_mode": {
    "name": "ipython",
    "version": 3
   },
   "file_extension": ".py",
   "mimetype": "text/x-python",
   "name": "python",
   "nbconvert_exporter": "python",
   "pygments_lexer": "ipython3",
   "version": "3.11.9"
  }
 },
 "nbformat": 4,
 "nbformat_minor": 1
}
