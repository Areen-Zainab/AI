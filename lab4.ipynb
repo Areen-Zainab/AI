{
 "cells": [
  {
   "cell_type": "markdown",
   "metadata": {},
   "source": [
    "# Q1\n",
    "In a computer network, data packets must be transmitted efficiently from a source server to a destination server. Each link between routers has a different transmission cost depending on factors such as bandwidth, latency, congestion, or link quality. Your goal is to determine the most cost-efficient route for the data packet to travel from the source to the destination. <br>\n",
    "\n",
    "Problem Setup: The network can be modeled as a graph where:\n",
    "Nodes represent routers in the network.\n",
    "Edges between nodes represent network links, with associated transmission costs. These costs reflect the real-world constraints, such as available bandwidth, latency, or congestion level.\n",
    "| Router 1 | Router 2 | Transmission Cost |\n",
    "|----------|----------|-------------------|\n",
    "| A        | B        | 4                 |\n",
    "| A        | C        | 2                 |\n",
    "| B        | D        | 3                 |\n",
    "| C        | D        | 1                 |\n",
    "| C        | E        | 7                 |\n",
    "| D        | F        | 5                 |\n",
    "| E        | F        | 3                 |\n",
    "\n",
    "\n",
    "The task is to find the least costly path for the data packet to travel from the source server (Router A) to the destination server (Router F) using Uniform Cost Search (UCS).\n",
    "\n",
    "Example Output:\n",
    "Using UCS, the algorithm should explore paths such as:\n",
    "\n",
    "A → C → D → F (total cost: 2 + 1 + 5 = 8) <br>\n",
    "A → B → D → F (total cost: 4 + 3 + 5 = 12)"
   ]
  },
  {
   "cell_type": "code",
   "execution_count": null,
   "metadata": {},
   "outputs": [
    {
     "name": "stdout",
     "output_type": "stream",
     "text": [
      "Beautiful Rasta: A -> C -> D -> F\n",
      "Total Kharcha: 8\n"
     ]
    }
   ],
   "source": [
    "# Code here\n",
    "from queue import PriorityQueue\n",
    "\n",
    "def UCS(graph, start, goal):  #Uniform Cost Search\n",
    "    p = PriorityQueue()\n",
    "    p.put((0, start, [])) \n",
    "    visited = set()\n",
    "    \n",
    "    while not p.empty():\n",
    "        cost, node, path = p.get()\n",
    "        \n",
    "        if node in visited:\n",
    "            continue\n",
    "        \n",
    "        path = path + [node]\n",
    "        visited.add(node)\n",
    "        \n",
    "        if node == goal:\n",
    "            return path, cost\n",
    "        \n",
    "        for n, ecost in graph.get(node, []): # n is neighbors \n",
    "            if n not in visited:\n",
    "                # if a node is not visited, add its neighbors to the queue with their cost\n",
    "                p.put((cost + ecost, n, path)) \n",
    "    \n",
    "    return None, float(\"inf\")  # No path found, infinite path return \n",
    "\n",
    "graph = {\n",
    "    'A': [('B', 4), ('C', 2)],\n",
    "    'B': [('D', 3)],\n",
    "    'C': [('D', 1), ('E', 7)],\n",
    "    'D': [('F', 5)],\n",
    "    'E': [('F', 3)],\n",
    "    'F': []\n",
    "}\n",
    "\n",
    "# least costl path from A to F\n",
    "path, cost = UCS(graph, 'A', 'F')\n",
    "print(\"Beautiful Rasta:\", \" -> \".join(path))\n",
    "print(\"Total Kharcha:\", cost)\n"
   ]
  },
  {
   "cell_type": "markdown",
   "metadata": {},
   "source": [
    "# Q2 Word Ladder Puzzle"
   ]
  },
  {
   "cell_type": "code",
   "execution_count": null,
   "metadata": {},
   "outputs": [
    {
     "name": "stdout",
     "output_type": "stream",
     "text": [
      "['cold', 'cord', 'card', 'ward', 'warm']\n"
     ]
    }
   ],
   "source": [
    "import heapq\n",
    "\n",
    "#heuristic function used\n",
    "def hamming_distance(word1, word2):\n",
    "    \"\"\"Compute the number of differing letters between two words.\"\"\"\n",
    "    #counts the number of letters that differ between the two words\n",
    "    return sum(c1 != c2 for c1, c2 in zip(word1, word2))\n",
    "\n",
    "def greedy_best_first_search(start, goal, word_list):\n",
    "\n",
    "    \"\"\"Find a path from start to goal using Greedy Best-First Search.\"\"\"\n",
    "    wordSet = set(word_list)\n",
    "    pq = [(hamming_distance(start, goal), start, [start])] #heuristic value, current word, path taken so far\n",
    "    visited = set()\n",
    "    \n",
    "    while pq:\n",
    "        _, current_word, path = heapq.heappop(pq) #word with smallest heuristic value \n",
    "        \n",
    "        if current_word == goal:\n",
    "            return path\n",
    "        \n",
    "        if current_word in visited:\n",
    "            continue\n",
    "        \n",
    "        visited.add(current_word)\n",
    "        \n",
    "        for word in wordSet:\n",
    "            if word!= current_word and hamming_distance(current_word, word) == 1:\n",
    "                heapq.heappush(pq, (hamming_distance(word, goal), word, path + [word])) #heuristic value, current word, path taken so far\n",
    "\n",
    "    return \"No possible path found!\"\n",
    "\n",
    "\n",
    "start = \"cold\"\n",
    "goal = \"warm\"\n",
    "word_list = [\n",
    "    \"cold\", \"cord\", \"card\", \"ward\", \"warm\", \n",
    "    \"core\", \"wore\", \"ware\", \"worm\", \"corm\", \"word\"\n",
    "]\n",
    "\n",
    "print(greedy_best_first_search(start, goal, word_list))\n",
    "#print(\"Path:\", \" -> \".join(path) if isinstance(path, list) else path)"
   ]
  },
  {
   "cell_type": "markdown",
   "metadata": {},
   "source": [
    "# Test cases\n"
   ]
  },
  {
   "cell_type": "code",
   "execution_count": 6,
   "metadata": {},
   "outputs": [
    {
     "name": "stdout",
     "output_type": "stream",
     "text": [
      "['hit', 'hot', 'dot', 'dog', 'cog']\n"
     ]
    }
   ],
   "source": [
    "start = \"hit\"\n",
    "goal = \"cog\"\n",
    "word_list = [\"hit\", \"hot\", \"dot\", \"dog\", \"cog\", \"lot\", \"log\"]\n",
    "\n",
    "print(greedy_best_first_search(start, goal, word_list))\n"
   ]
  },
  {
   "cell_type": "code",
   "execution_count": 7,
   "metadata": {},
   "outputs": [
    {
     "name": "stdout",
     "output_type": "stream",
     "text": [
      "['lead', 'load', 'goad', 'gold']\n"
     ]
    }
   ],
   "source": [
    "start = \"lead\"\n",
    "goal = \"gold\"\n",
    "word_list = [\"lead\", \"load\", \"goad\", \"gold\", \"goat\", \"geat\", \"lold\"]\n",
    "\n",
    "print(greedy_best_first_search(start, goal, word_list))\n"
   ]
  },
  {
   "cell_type": "code",
   "execution_count": 8,
   "metadata": {},
   "outputs": [
    {
     "name": "stdout",
     "output_type": "stream",
     "text": [
      "['cold', 'cord', 'card', 'ward', 'warm']\n"
     ]
    }
   ],
   "source": [
    "start = \"cold\"\n",
    "goal = \"warm\"\n",
    "word_list = [\n",
    "    \"cold\", \"cord\", \"card\", \"ward\", \"warm\", \n",
    "    \"core\", \"wore\", \"ware\", \"worm\", \"corm\", \"word\"\n",
    "]\n",
    "\n",
    "print(greedy_best_first_search(start, goal, word_list))\n"
   ]
  }
 ],
 "metadata": {
  "kernelspec": {
   "display_name": "myenv",
   "language": "python",
   "name": "python3"
  },
  "language_info": {
   "codemirror_mode": {
    "name": "ipython",
    "version": 3
   },
   "file_extension": ".py",
   "mimetype": "text/x-python",
   "name": "python",
   "nbconvert_exporter": "python",
   "pygments_lexer": "ipython3",
   "version": "3.11.9"
  }
 },
 "nbformat": 4,
 "nbformat_minor": 2
}
