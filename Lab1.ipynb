{
 "cells": [
  {
   "cell_type": "markdown",
   "id": "bfc4f364-5632-4af4-937c-68e197ce60e5",
   "metadata": {},
   "source": [
    "Areen Zainab\n",
    "22i-1115"
   ]
  },
  {
   "cell_type": "markdown",
   "id": "29b64212-5713-41d1-80e5-4a08bee5bd81",
   "metadata": {},
   "source": [
    "**Question 1**"
   ]
  },
  {
   "cell_type": "markdown",
   "id": "35a15324-38ef-487b-be73-d3215d131a4c",
   "metadata": {},
   "source": [
    "Write a python program to make a list of your name, regno, cgpa and subjects (enter your \n",
    "favorite subjects fist then less favorite and so on) you are studying in this semester in the list\r\n",
    "Print your name and first two favorite subjects from the list."
   ]
  },
  {
   "cell_type": "code",
   "execution_count": 5,
   "id": "ac0686df-cf89-44d6-8f0e-1f11c12c3360",
   "metadata": {},
   "outputs": [
    {
     "name": "stdout",
     "output_type": "stream",
     "text": [
      "Areen Zainab\n",
      "['AI Lab', 'Compiler']\n"
     ]
    }
   ],
   "source": [
    "myMaloomat = [\"Areen Zainab\", \"22i-1115\", 3.03, \"AI Lab\", \"Compiler\", \"AI\", \"Web\",\"SE\", \"PDC\"]\n",
    "print(myMaloomat[0])\n",
    "print(myMaloomat[3:5])"
   ]
  },
  {
   "cell_type": "markdown",
   "id": "5d7e2ac4-26d3-45c1-8898-f927144aeb09",
   "metadata": {},
   "source": [
    "**Question 2**"
   ]
  },
  {
   "cell_type": "markdown",
   "id": "4e2286c7-414f-4d5d-8e50-d7a34f31f28f",
   "metadata": {},
   "source": [
    "define a function that will take a list of numbers and will return the average of the list \n",
    "If the average is greater than 50 then return the sum of the list otherwise return the product of the list"
   ]
  },
  {
   "cell_type": "code",
   "execution_count": 12,
   "id": "302bc6d3-539a-4b35-84a3-e63c94aa7639",
   "metadata": {},
   "outputs": [
    {
     "name": "stdout",
     "output_type": "stream",
     "text": [
      "24\n"
     ]
    }
   ],
   "source": [
    "def CalcAvg(num):\n",
    "    n = len(num)\n",
    "    sum = 0\n",
    "    prod = 1\n",
    "    for i in num:\n",
    "        sum += i\n",
    "        prod *= i\n",
    "    avg = sum/n\n",
    "    if(avg>50):\n",
    "        return sum\n",
    "    else:\n",
    "        return prod\n",
    "\n",
    "num = [1,2,3,4]\n",
    "wow = CalcAvg(num)\n",
    "print(wow)"
   ]
  },
  {
   "cell_type": "markdown",
   "id": "75575737-ec13-4da7-ae86-c8a0b15b5aed",
   "metadata": {},
   "source": [
    "**Question 3**"
   ]
  },
  {
   "cell_type": "markdown",
   "id": "329a1736-abba-477c-8873-f79209a682ed",
   "metadata": {},
   "source": [
    "You are given two lists list1 = ['a', 'b', 'c', 'd']and list2 = [1,2,3,4]. Use these lists to create a dictionary\r\n",
    "such that the item \r\n",
    "in list1 are the keys and the items in list2 are the value in the new dictionary."
   ]
  },
  {
   "cell_type": "code",
   "execution_count": 20,
   "id": "630970b4-1e08-436b-b2ef-bd4e2c2c87b0",
   "metadata": {},
   "outputs": [
    {
     "name": "stdout",
     "output_type": "stream",
     "text": [
      "{'a': 1, 'b': 2, 'c': 3, 'd': 4}\n",
      "{'areen': 1, 'ball': 2, 'cat': 3, 'doll': 4}\n"
     ]
    }
   ],
   "source": [
    "list1 = ['a', 'b', 'c', 'd']\n",
    "list2 = [1,2,3,4]\n",
    "#method 1\n",
    "mydict = dict(zip(list1, list2))\n",
    "print(mydict)\n",
    "\n",
    "#method 2\n",
    "list11 = ['areen', 'ball', 'cat', 'doll']\n",
    "list22 = [1,2,3,4]\n",
    "mydict1 = dict()\n",
    "for i in range(len(list11)):\n",
    "    mydict1[list11[i]] = list22[i]\n",
    "print (mydict1)"
   ]
  },
  {
   "cell_type": "markdown",
   "id": "442090d4-262c-49af-aad4-440b348e0710",
   "metadata": {},
   "source": [
    "**Question 4**"
   ]
  },
  {
   "cell_type": "markdown",
   "id": "4e6b9869-a0a7-4373-93b1-da49cad06bd3",
   "metadata": {},
   "source": [
    "Create a class called BankAccount that has three functions; deposit, withdraw and display balance.\n",
    "Call deposit function through the class object pass the deposited amount as argument\r\n",
    "and withdraw money if have required balance and display will print the current available balance in\r\n",
    "accou 5)]."
   ]
  },
  {
   "cell_type": "code",
   "execution_count": 31,
   "id": "f75cef8b-cae7-429f-9cbb-45c2ecab5985",
   "metadata": {},
   "outputs": [
    {
     "name": "stdout",
     "output_type": "stream",
     "text": [
      "ghareeb log\n",
      "current balance: 100\n"
     ]
    }
   ],
   "source": [
    "class BankAccount:\n",
    "    def __init__(self):\n",
    "        self.balance = 0\n",
    "        \n",
    "    def deposit(self, paisay):\n",
    "        self.balance += paisay\n",
    "        \n",
    "    def withdraw(self, paisay):\n",
    "        if paisay > self.balance:\n",
    "            print(\"ghareeb log\")\n",
    "        else:\n",
    "            self.balance -= paisay\n",
    "            \n",
    "    def display(self):\n",
    "        print(\"current balance:\", self.balance)\n",
    "    \n",
    "areenAcc = BankAccount();\n",
    "areenAcc.deposit(100)\n",
    "areenAcc.withdraw(500)\n",
    "areenAcc.display()\n",
    "        "
   ]
  },
  {
   "cell_type": "markdown",
   "id": "7d6a8d08-dd1a-4cae-8702-49205a7a977d",
   "metadata": {},
   "source": [
    "**Question 5**"
   ]
  },
  {
   "cell_type": "markdown",
   "id": "e91374a9-a15b-48f3-a552-383979a2f0e1",
   "metadata": {},
   "source": [
    "Write a function to sort a list of tuples based on the second element in each tuple. For example,\n",
    "[(1, 3), (4, 1), (2, 5)] should be sorted to [(4, 1), (1, 3), (2, 5)]."
   ]
  },
  {
   "cell_type": "code",
   "execution_count": 34,
   "id": "1c677978-1ee6-46a1-86e1-239a6647058f",
   "metadata": {},
   "outputs": [
    {
     "name": "stdout",
     "output_type": "stream",
     "text": [
      "[(4, 1), (1, 3), (2, 5)]\n"
     ]
    }
   ],
   "source": [
    "def bubble_sort(list):\n",
    "    for i in range(len(list)):\n",
    "        for j in range(len(list)-i-1):\n",
    "            if ( list[j][1] > list[j+1][1] ):\n",
    "                list[j] , list[j+1] = list[j+1], list[j]\n",
    "    return list\n",
    "    \n",
    "list = [(1, 3), (4, 1), (2, 5)]\n",
    "wow = bubble_sort(list)\n",
    "print(list)"
   ]
  },
  {
   "cell_type": "markdown",
   "id": "49301663-c720-4ddb-a57b-5d4429f2a286",
   "metadata": {},
   "source": [
    "**Question 6**"
   ]
  },
  {
   "cell_type": "markdown",
   "id": "4777636e-e643-40f8-83dc-ab66348ef4ce",
   "metadata": {},
   "source": [
    "You are given three arrays of different lengths. Write a Python function to find and return the \n",
    "common elements present in all three arrays.\r\n",
    "Requirement 1.\n",
    " The solution should have a time complexity of O(n1 + n2 + n3), where n1, n2, and n3 are the\r\n",
    "lengths of the three arr 2. .\r\n",
    " If there are no common elements, the function should return an empty list.\r\n",
    "Example Input :\r\n",
    "arr1 = [1, 2, 3, 4, 5] arr2 = [2, 3, 5, 7] arr3 = [3, 5, 8, 9]\r\n",
    "Example Output:\r\n",
    "[3, 5]"
   ]
  },
  {
   "cell_type": "code",
   "execution_count": 48,
   "id": "1873b511-dac5-46db-a40e-305982f2acee",
   "metadata": {},
   "outputs": [
    {
     "ename": "TypeError",
     "evalue": "'list' object is not callable",
     "output_type": "error",
     "traceback": [
      "\u001b[1;31m---------------------------------------------------------------------------\u001b[0m",
      "\u001b[1;31mTypeError\u001b[0m                                 Traceback (most recent call last)",
      "Cell \u001b[1;32mIn[48], line 9\u001b[0m\n\u001b[0;32m      7\u001b[0m arr2 \u001b[38;5;241m=\u001b[39m [\u001b[38;5;241m2\u001b[39m,\u001b[38;5;241m3\u001b[39m,\u001b[38;5;241m5\u001b[39m,\u001b[38;5;241m7\u001b[39m]\n\u001b[0;32m      8\u001b[0m arr3 \u001b[38;5;241m=\u001b[39m [\u001b[38;5;241m3\u001b[39m,\u001b[38;5;241m5\u001b[39m,\u001b[38;5;241m8\u001b[39m,\u001b[38;5;241m9\u001b[39m]\n\u001b[1;32m----> 9\u001b[0m \u001b[38;5;28mprint\u001b[39m(sol(arr1, arr2, arr3))\n",
      "Cell \u001b[1;32mIn[48], line 3\u001b[0m, in \u001b[0;36msol\u001b[1;34m(arr1, arr2, arr3)\u001b[0m\n\u001b[0;32m      1\u001b[0m \u001b[38;5;28;01mdef\u001b[39;00m \u001b[38;5;21msol\u001b[39m(arr1, arr2, arr3):\n\u001b[0;32m      2\u001b[0m     list1 \u001b[38;5;241m=\u001b[39m []\n\u001b[1;32m----> 3\u001b[0m     list1 \u001b[38;5;241m=\u001b[39m \u001b[38;5;28mlist\u001b[39m(\u001b[38;5;28mset\u001b[39m(arr1) \u001b[38;5;241m&\u001b[39m \u001b[38;5;28mset\u001b[39m(arr2) \u001b[38;5;241m&\u001b[39m \u001b[38;5;28mset\u001b[39m(arr3))\n\u001b[0;32m      4\u001b[0m     \u001b[38;5;28;01mreturn\u001b[39;00m list1\n",
      "\u001b[1;31mTypeError\u001b[0m: 'list' object is not callable"
     ]
    }
   ],
   "source": [
    "def sol(arr1, arr2, arr3):\n",
    "    list1 = []\n",
    "    list1 = list(set(arr1) & set(arr2) & set(arr3))\n",
    "    return list1\n",
    "    \n",
    "arr1 = [1,2,3,4,5]\n",
    "arr2 = [2,3,5,7]\n",
    "arr3 = [3,5,8,9]\n",
    "print(sol(arr1, arr2, arr3))"
   ]
  },
  {
   "cell_type": "markdown",
   "id": "19705a3d-4e4e-4217-8841-6f061101724b",
   "metadata": {},
   "source": [
    "**Question 7**"
   ]
  },
  {
   "cell_type": "markdown",
   "id": "d0d84783-980d-4ef7-9fce-c52d0c0ba54a",
   "metadata": {},
   "source": [
    "Create a class called Rizz that will have a rizz-level member variable. \n",
    "You will inherit this class into two classe ;Rizz; andL_Riz;. W_Rizz and L_Rizz will have a functio \r\n",
    "callet;sigmaCalculatt; that will calculate the sigma values for each class. T \"t;sigmaCalculat\"t; wi l\r\n",
    "add a random positive number to the rizz-level in W_Rizz and do the opposite in L_Rizz."
   ]
  },
  {
   "cell_type": "code",
   "execution_count": 51,
   "id": "2a288fe4-76ac-47a6-b87c-103caf43d26d",
   "metadata": {},
   "outputs": [
    {
     "name": "stdout",
     "output_type": "stream",
     "text": [
      "new rizz level:  32\n",
      "new rizz level:  19\n"
     ]
    }
   ],
   "source": [
    "import random\n",
    "class Rizz:\n",
    "    def __init__(self, rizz_level=0):\n",
    "        self.rizz_level = rizz_level\n",
    "\n",
    "class W_rizz(Rizz):\n",
    "    def sigmaCalculator(self):\n",
    "        val = random.randint(1,10)\n",
    "        self.rizz_level += val\n",
    "        print(\"new rizz level: \",self.rizz_level)\n",
    "\n",
    "class L_rizz(Rizz):\n",
    "    def sigmaCalculator(self):\n",
    "        val = random.randint(1,10)\n",
    "        self.rizz_level -= val\n",
    "        print(\"new rizz level: \",self.rizz_level)\n",
    "\n",
    "wrizz = W_rizz(25)\n",
    "lrizz = L_rizz(25)\n",
    "\n",
    "wrizz.sigmaCalculator()\n",
    "lrizz.sigmaCalculator()"
   ]
  },
  {
   "cell_type": "code",
   "execution_count": null,
   "id": "007f7426-db68-48cf-be24-b333f97a5174",
   "metadata": {},
   "outputs": [],
   "source": []
  }
 ],
 "metadata": {
  "kernelspec": {
   "display_name": "Python 3 (ipykernel)",
   "language": "python",
   "name": "python3"
  },
  "language_info": {
   "codemirror_mode": {
    "name": "ipython",
    "version": 3
   },
   "file_extension": ".py",
   "mimetype": "text/x-python",
   "name": "python",
   "nbconvert_exporter": "python",
   "pygments_lexer": "ipython3",
   "version": "3.12.4"
  }
 },
 "nbformat": 4,
 "nbformat_minor": 5
}
